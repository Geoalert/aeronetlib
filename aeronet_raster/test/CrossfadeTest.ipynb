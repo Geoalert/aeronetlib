{
 "cells": [
  {
   "cell_type": "code",
   "execution_count": 1,
   "id": "e196f4bf-01a5-49ae-8d56-3ef6552a471a",
   "metadata": {},
   "outputs": [
    {
     "name": "stdout",
     "output_type": "stream",
     "text": [
      "C:\\Users\\Test\\Geoalert\\aeronetlib\\aeronet_raster\n"
     ]
    }
   ],
   "source": [
    "%cd .."
   ]
  },
  {
   "cell_type": "markdown",
   "id": "58f3877e-8d1d-4c13-9d91-27ba2b35a59b",
   "metadata": {
    "jp-MarkdownHeadingCollapsed": true
   },
   "source": [
    "## Задача: Изображение размером 10х10, пройти с окном 8х8 с пересечением между окнами (margin) 2 пикселя"
   ]
  },
  {
   "cell_type": "markdown",
   "id": "7c8a7e31-a351-4556-b82d-183edbc7faa5",
   "metadata": {},
   "source": [
    "### Новая версия"
   ]
  },
  {
   "cell_type": "code",
   "execution_count": null,
   "id": "e995dfde-d747-432d-9866-3a2f4fa1a1de",
   "metadata": {},
   "outputs": [],
   "source": [
    "from aeronet_raster import dataprocessor\n",
    "from aeronet_raster.dataadapters import numpyadapter\n",
    "from matplotlib import pyplot as plt\n",
    "import numpy as np"
   ]
  },
  {
   "cell_type": "code",
   "execution_count": null,
   "id": "359c26ae-81dc-48bf-adf6-e97e87c56a7c",
   "metadata": {},
   "outputs": [],
   "source": [
    "# маска для sample_size=(8, 8), margin=(2, 2)\n",
    "plt.imshow(dataprocessor.get_blend_mask((8, 8), (2, 2)))"
   ]
  },
  {
   "cell_type": "code",
   "execution_count": null,
   "id": "936d737b-9528-4b82-a043-e2e4a570aaaa",
   "metadata": {},
   "outputs": [],
   "source": [
    "mask = dataprocessor.get_blend_mask((8, 8), (2, 2))\n",
    "data = numpyadapter.NumpyWriter(np.zeros((10, 10)))  # NumpyWriter нужен чтобы корректно писать по координатам в out of bounds, например, (-2, -2)\n",
    "stride = 8-2 # шаг окна \n",
    "for x in range(-2, 10, stride):\n",
    "    for y in range(-2, 10, stride):\n",
    "        data[y:y+8, x:x+8] += mask\n",
    "        print(f'Writing at ({y}, {x})')\n",
    "        plt.imshow(data._data, vmin=0, vmax=1)\n",
    "        plt.show()\n"
   ]
  },
  {
   "cell_type": "markdown",
   "id": "b94db363-7517-44d1-94f4-86578ffb13d7",
   "metadata": {},
   "source": [
    "### Старая версия"
   ]
  },
  {
   "cell_type": "code",
   "execution_count": null,
   "id": "266441d7-ecbe-4fb3-966c-e092eb689059",
   "metadata": {},
   "outputs": [],
   "source": [
    "from aeronet_raster.utils import calc_window_weight_mtrx\n",
    "from aeronet_raster.dataadapters import numpyadapter\n",
    "from matplotlib import pyplot as plt\n",
    "import numpy as np"
   ]
  },
  {
   "cell_type": "code",
   "execution_count": null,
   "id": "dcd9c95f-ccd1-4102-ab17-40703115f60b",
   "metadata": {},
   "outputs": [],
   "source": [
    "# здесь effective_sample_size = 8-2*2 = 4\n",
    "plt.imshow(calc_window_weight_mtrx.calc_weight_mtrx((4, 4), 2))"
   ]
  },
  {
   "cell_type": "code",
   "execution_count": null,
   "id": "95ed6c32-6f76-479b-9e3c-a8daa33d38a4",
   "metadata": {},
   "outputs": [],
   "source": [
    "mask = calc_window_weight_mtrx.calc_weight_mtrx((4, 4), 2)\n",
    "data = numpyadapter.NumpyWriter(np.zeros((10, 10)))  # NumpyWriter нужен чтобы корректно писать по координатам в out of bounds, например, (-2, -2)\n",
    "stride = 8-2 # шаг окна \n",
    "for x in range(-2, 10, stride):\n",
    "    for y in range(-2, 10, stride):\n",
    "        data[y:y+8, x:x+8] += mask\n",
    "        print(f'Writing at ({y}, {x})')\n",
    "        plt.imshow(data._data, vmin=0, vmax=1)\n",
    "        plt.show()\n"
   ]
  },
  {
   "cell_type": "markdown",
   "id": "5adbfe2c-2e63-429e-bf62-0c03fea097b2",
   "metadata": {},
   "source": [
    "## Test on real image"
   ]
  },
  {
   "cell_type": "code",
   "execution_count": 27,
   "id": "76d61d67-4742-40b2-a73a-5c27675dfb08",
   "metadata": {},
   "outputs": [
    {
     "data": {
      "text/plain": [
       "<module 'aeronet_raster.dataprocessor' from 'C:\\\\Users\\\\Test\\\\Geoalert\\\\aeronetlib\\\\aeronet_raster\\\\aeronet_raster\\\\dataprocessor.py'>"
      ]
     },
     "execution_count": 27,
     "metadata": {},
     "output_type": "execute_result"
    }
   ],
   "source": [
    "from aeronet_raster.dataadapters import rasterioadapter\n",
    "from aeronet_raster import dataprocessor\n",
    "from aeronet_raster.utils.samplers.gridsampler import get_safe_shape, make_grid\n",
    "from matplotlib import pyplot as plt\n",
    "import numpy as np\n",
    "import importlib\n",
    "import logging\n",
    "importlib.reload(rasterioadapter)\n",
    "importlib.reload(dataprocessor)"
   ]
  },
  {
   "cell_type": "code",
   "execution_count": 28,
   "id": "9b4aced2-fd5e-4f5e-ba6f-39d37b489138",
   "metadata": {},
   "outputs": [],
   "source": [
    "# 'crop' mode\n",
    "\n",
    "logging.basicConfig(level=logging.INFO)\n",
    "with rasterioadapter.RasterioReader('test/unit/test_data/input.tif') as src:\n",
    "    profile = src.profile\n",
    "    with rasterioadapter.RasterioWriter('test/unit/test_data/output.tif', profile) as dst:\n",
    "        dataprocessor.process_image(src=src,\n",
    "                                    src_sample_size=512,\n",
    "                                    src_margin=64,\n",
    "                                    processor=lambda x: x,\n",
    "                                    dst=dst,\n",
    "                                    mode='crop',\n",
    "                                    verbose=False)  # set verbose to True to see how the sampling goes\n",
    "        "
   ]
  },
  {
   "cell_type": "code",
   "execution_count": null,
   "id": "28151413-5747-411d-b40b-d4b9e37dcc4b",
   "metadata": {},
   "outputs": [],
   "source": [
    "# 'crossfade' mode\n",
    "\n",
    "logging.basicConfig(level=logging.INFO)\n",
    "with rasterioadapter.RasterioReader('test/unit/test_data/input.tif') as src:\n",
    "    profile = src.profile\n",
    "    with rasterioadapter.RasterioWriter('test/unit/test_data/output.tif', profile) as dst:\n",
    "        dataprocessor.process_image(src=src,\n",
    "                                    src_sample_size=512,\n",
    "                                    src_margin=64,\n",
    "                                    processor=lambda x: x,\n",
    "                                    dst=dst,\n",
    "                                    mode='crossfade',\n",
    "                                    verbose=False)  # set verbose to True to see how the sampling goes"
   ]
  }
 ],
 "metadata": {
  "kernelspec": {
   "display_name": "Python 3 (ipykernel)",
   "language": "python",
   "name": "python3"
  },
  "language_info": {
   "codemirror_mode": {
    "name": "ipython",
    "version": 3
   },
   "file_extension": ".py",
   "mimetype": "text/x-python",
   "name": "python",
   "nbconvert_exporter": "python",
   "pygments_lexer": "ipython3",
   "version": "3.8.10"
  }
 },
 "nbformat": 4,
 "nbformat_minor": 5
}
